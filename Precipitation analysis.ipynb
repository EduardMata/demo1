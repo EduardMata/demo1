{
    "cells": [
        {
            "cell_type": "code",
            "execution_count": 1,
            "metadata": {},
            "outputs": [
                {
                    "name": "stdout",
                    "output_type": "stream",
                    "text": "+----------------+--------------+--------------------+-------+-------------------+\n|Series reference|        Period|         Description|Revised|Initially published|\n+----------------+--------------+--------------------+-------+-------------------+\n|         2019.09|PPIQ.SQN800000|All industries ex...|   1167|               1164|\n|         2019.12|PPIQ.SQN800000|All industries ex...|   1170|               1166|\n|         2019.09|PPIQ.SQN800001|All industries ex...|   1167|               1164|\n|         2019.12|PPIQ.SQN800001|All industries ex...|   1170|               1166|\n|         2019.09|PPIQ.SQN900000|All industries, I...|   1166|               1164|\n+----------------+--------------+--------------------+-------+-------------------+\nonly showing top 5 rows\n\n"
                },
                {
                    "data": {
                        "text/plain": "configurationName = os_08a5410826c84267b019f7b11d911af2_configs\ncos = com.ibm.ibmos2spark.CloudObjectStorage@61072cc5\nspark = org.apache.spark.sql.SparkSession@662fbdea\ndfData1 = [Series reference: double, Period: string ... 3 more fields]\n"
                    },
                    "metadata": {},
                    "output_type": "display_data"
                },
                {
                    "data": {
                        "text/plain": "getCredentials: ()scala.collection.mutable.HashMap[String,String]\n"
                    },
                    "metadata": {},
                    "output_type": "display_data"
                },
                {
                    "data": {
                        "text/plain": "[Series reference: double, Period: string ... 3 more fields]"
                    },
                    "execution_count": 1,
                    "metadata": {},
                    "output_type": "execute_result"
                }
            ],
            "source": "// The code was removed by Watson Studio for sharing."
        },
        {
            "cell_type": "code",
            "execution_count": null,
            "metadata": {},
            "outputs": [],
            "source": ""
        },
        {
            "cell_type": "code",
            "execution_count": null,
            "metadata": {},
            "outputs": [],
            "source": ""
        }
    ],
    "metadata": {
        "kernelspec": {
            "display_name": "Scala 2.11 with Spark",
            "language": "scala",
            "name": "scala"
        },
        "language_info": {
            "codemirror_mode": "text/x-scala",
            "file_extension": ".scala",
            "mimetype": "text/x-scala",
            "name": "scala",
            "pygments_lexer": "scala",
            "version": "2.11.12"
        }
    },
    "nbformat": 4,
    "nbformat_minor": 1
}